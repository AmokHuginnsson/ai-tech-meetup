{
 "cells": [
  {
   "cell_type": "markdown",
   "metadata": {
    "deletable": true,
    "editable": true
   },
   "source": [
    "# CNNs and MNIST dataset with Keras"
   ]
  },
  {
   "cell_type": "code",
   "execution_count": 1,
   "metadata": {
    "ExecuteTime": {
     "end_time": "2017-03-29T11:24:38.018262Z",
     "start_time": "2017-03-29T13:24:37.016629+02:00"
    },
    "collapsed": false,
    "deletable": true,
    "editable": true
   },
   "outputs": [
    {
     "name": "stderr",
     "output_type": "stream",
     "text": [
      "Using TensorFlow backend.\n"
     ]
    },
    {
     "data": {
      "text/plain": [
       "('2.0.2',\n",
       " '1.0.1',\n",
       " '3.6.0 |Continuum Analytics, Inc.| (default, Dec 23 2016, 12:22:00) \\n[GCC 4.4.7 20120313 (Red Hat 4.4.7-1)]')"
      ]
     },
     "execution_count": 1,
     "metadata": {},
     "output_type": "execute_result"
    }
   ],
   "source": [
    "import numpy as np\n",
    "np.random.seed(100)\n",
    "import keras\n",
    "import tensorflow\n",
    "import sys\n",
    "(keras.__version__, tensorflow.__version__, sys.version)"
   ]
  },
  {
   "cell_type": "markdown",
   "metadata": {
    "deletable": true,
    "editable": true
   },
   "source": [
    "## Prepare the dataset"
   ]
  },
  {
   "cell_type": "code",
   "execution_count": 2,
   "metadata": {
    "ExecuteTime": {
     "end_time": "2017-03-29T11:24:38.382781Z",
     "start_time": "2017-03-29T13:24:38.020060+02:00"
    },
    "collapsed": false,
    "deletable": true,
    "editable": true
   },
   "outputs": [],
   "source": [
    "from keras.datasets import mnist\n",
    "import matplotlib.pyplot as plt\n",
    "%matplotlib inline\n",
    "import numpy as np\n",
    "(x_train, y_train), (x_test, y_test) = mnist.load_data()"
   ]
  },
  {
   "cell_type": "code",
   "execution_count": 3,
   "metadata": {
    "ExecuteTime": {
     "end_time": "2017-03-29T11:24:38.590541Z",
     "start_time": "2017-03-29T13:24:38.384687+02:00"
    },
    "collapsed": true,
    "deletable": true,
    "editable": true
   },
   "outputs": [],
   "source": [
    "# Normalize data to values in range 0-1\n",
    "x_train = x_train/255.0\n",
    "x_test = x_test/255.0"
   ]
  },
  {
   "cell_type": "code",
   "execution_count": 4,
   "metadata": {
    "ExecuteTime": {
     "end_time": "2017-03-29T11:24:38.595628Z",
     "start_time": "2017-03-29T13:24:38.592172+02:00"
    },
    "collapsed": false,
    "deletable": true,
    "editable": true
   },
   "outputs": [
    {
     "name": "stdout",
     "output_type": "stream",
     "text": [
      "shape of X_train = (60000, 28, 28)\n",
      "shape of y_train = (60000,)\n"
     ]
    }
   ],
   "source": [
    "print(\"shape of X_train =\", x_train.shape)\n",
    "print(\"shape of y_train =\", y_train.shape)"
   ]
  },
  {
   "cell_type": "markdown",
   "metadata": {
    "deletable": true,
    "editable": true
   },
   "source": [
    "We must add color channel at the end: tf - channel ordering we need following shape (Number of samples, width, height, num channels)"
   ]
  },
  {
   "cell_type": "code",
   "execution_count": 5,
   "metadata": {
    "ExecuteTime": {
     "end_time": "2017-03-29T11:24:40.422918Z",
     "start_time": "2017-03-29T13:24:40.410193+02:00"
    },
    "collapsed": false,
    "deletable": true,
    "editable": true
   },
   "outputs": [
    {
     "name": "stdout",
     "output_type": "stream",
     "text": [
      "shape of x_train = (60000, 28, 28, 1)\n",
      "shape of x_test = (10000, 28, 28, 1)\n"
     ]
    }
   ],
   "source": [
    "x_test = np.expand_dims(x_test,3)\n",
    "x_train = np.expand_dims(x_train,3)\n",
    "print(\"shape of x_train =\", x_train.shape)\n",
    "print(\"shape of x_test =\", x_test.shape)"
   ]
  },
  {
   "cell_type": "markdown",
   "metadata": {
    "ExecuteTime": {
     "end_time": "2017-03-29T11:06:38.440679Z",
     "start_time": "2017-03-29T13:06:38.430578+02:00"
    },
    "deletable": true,
    "editable": true
   },
   "source": [
    "Convert labels to onehot encodings"
   ]
  },
  {
   "cell_type": "code",
   "execution_count": 6,
   "metadata": {
    "ExecuteTime": {
     "end_time": "2017-03-29T11:24:41.064970Z",
     "start_time": "2017-03-29T13:24:41.049334+02:00"
    },
    "collapsed": false,
    "deletable": true,
    "editable": true
   },
   "outputs": [],
   "source": [
    "from keras.utils.np_utils import to_categorical\n",
    "def onehot(x):\n",
    "    return to_categorical(x)\n",
    "\n",
    "y_train = onehot(y_train)\n",
    "y_test = onehot(y_test)"
   ]
  },
  {
   "cell_type": "code",
   "execution_count": 7,
   "metadata": {
    "ExecuteTime": {
     "end_time": "2017-03-29T11:24:42.946047Z",
     "start_time": "2017-03-29T13:24:42.942277+02:00"
    },
    "collapsed": false,
    "deletable": true,
    "editable": true
   },
   "outputs": [
    {
     "name": "stdout",
     "output_type": "stream",
     "text": [
      "shape(y_train) = (60000, 10)\n",
      "shape(y_test)  = (10000, 10)\n"
     ]
    }
   ],
   "source": [
    "print(\"shape(y_train) =\", y_train.shape)\n",
    "print(\"shape(y_test)  =\", y_test.shape)"
   ]
  },
  {
   "cell_type": "markdown",
   "metadata": {
    "deletable": true,
    "editable": true
   },
   "source": [
    "Create sample test"
   ]
  },
  {
   "cell_type": "code",
   "execution_count": 8,
   "metadata": {
    "ExecuteTime": {
     "end_time": "2017-03-29T11:25:44.679102Z",
     "start_time": "2017-03-29T13:25:44.669190+02:00"
    },
    "collapsed": true,
    "deletable": true,
    "editable": true
   },
   "outputs": [],
   "source": [
    "x_train_sample = x_train[:8000]\n",
    "y_train_sample = y_train[:8000]\n",
    "\n",
    "x_test_sample = x_test[:1000]\n",
    "y_test_sample = y_test[:1000]"
   ]
  },
  {
   "cell_type": "markdown",
   "metadata": {
    "deletable": true,
    "editable": true
   },
   "source": [
    "## Create simple VGG like model"
   ]
  },
  {
   "cell_type": "code",
   "execution_count": 18,
   "metadata": {
    "ExecuteTime": {
     "end_time": "2017-03-29T11:34:12.415852Z",
     "start_time": "2017-03-29T13:34:11.949041+02:00"
    },
    "collapsed": false,
    "deletable": true,
    "editable": true
   },
   "outputs": [
    {
     "name": "stdout",
     "output_type": "stream",
     "text": [
      "_________________________________________________________________\n",
      "Layer (type)                 Output Shape              Param #   \n",
      "=================================================================\n",
      "conv2d_13 (Conv2D)           (None, 26, 26, 32)        320       \n",
      "_________________________________________________________________\n",
      "conv2d_14 (Conv2D)           (None, 24, 24, 32)        9248      \n",
      "_________________________________________________________________\n",
      "max_pooling2d_7 (MaxPooling2 (None, 12, 12, 32)        0         \n",
      "_________________________________________________________________\n",
      "batch_normalization_10 (Batc (None, 12, 12, 32)        128       \n",
      "_________________________________________________________________\n",
      "dropout_10 (Dropout)         (None, 12, 12, 32)        0         \n",
      "_________________________________________________________________\n",
      "conv2d_15 (Conv2D)           (None, 10, 10, 64)        18496     \n",
      "_________________________________________________________________\n",
      "conv2d_16 (Conv2D)           (None, 8, 8, 64)          36928     \n",
      "_________________________________________________________________\n",
      "max_pooling2d_8 (MaxPooling2 (None, 4, 4, 64)          0         \n",
      "_________________________________________________________________\n",
      "batch_normalization_11 (Batc (None, 4, 4, 64)          256       \n",
      "_________________________________________________________________\n",
      "dropout_11 (Dropout)         (None, 4, 4, 64)          0         \n",
      "_________________________________________________________________\n",
      "flatten_4 (Flatten)          (None, 1024)              0         \n",
      "_________________________________________________________________\n",
      "dense_7 (Dense)              (None, 256)               262400    \n",
      "_________________________________________________________________\n",
      "dropout_12 (Dropout)         (None, 256)               0         \n",
      "_________________________________________________________________\n",
      "batch_normalization_12 (Batc (None, 256)               1024      \n",
      "_________________________________________________________________\n",
      "dense_8 (Dense)              (None, 10)                2570      \n",
      "=================================================================\n",
      "Total params: 331,370.0\n",
      "Trainable params: 330,666.0\n",
      "Non-trainable params: 704.0\n",
      "_________________________________________________________________\n"
     ]
    }
   ],
   "source": [
    "from keras.layers import  *\n",
    "from keras.models import  *\n",
    "from keras.optimizers import Adam\n",
    "\n",
    "model = Sequential()\n",
    "model.add(Conv2D(32, (3, 3), activation='relu', input_shape=(28, 28, 1)))\n",
    "model.add(Conv2D(32, (3, 3), activation='relu'))\n",
    "model.add(MaxPooling2D(pool_size=(2, 2)))\n",
    "model.add(BatchNormalization())\n",
    "model.add(Dropout(0.25))\n",
    "\n",
    "model.add(Conv2D(64, (3, 3), activation='relu'))\n",
    "model.add(Conv2D(64, (3, 3), activation='relu'))\n",
    "model.add(MaxPooling2D(pool_size=(2, 2)))\n",
    "model.add(BatchNormalization())\n",
    "model.add(Dropout(0.25))\n",
    "\n",
    "model.add(Flatten())\n",
    "model.add(Dense(256, activation='relu'))\n",
    "model.add(Dropout(0.5))\n",
    "model.add(BatchNormalization())\n",
    "model.add(Dense(10, activation='softmax'))\n",
    "\n",
    "adam = Adam(lr=0.01)\n",
    "model.compile(loss='categorical_crossentropy', optimizer=adam, metrics=['accuracy'])\n",
    "\n",
    "model.summary()"
   ]
  },
  {
   "cell_type": "markdown",
   "metadata": {
    "deletable": true,
    "editable": true
   },
   "source": [
    "Run a single epoch on a small dataset"
   ]
  },
  {
   "cell_type": "code",
   "execution_count": 19,
   "metadata": {
    "ExecuteTime": {
     "end_time": "2017-03-29T11:34:24.127656Z",
     "start_time": "2017-03-29T13:34:16.196195+02:00"
    },
    "collapsed": false,
    "deletable": true,
    "editable": true
   },
   "outputs": [
    {
     "name": "stdout",
     "output_type": "stream",
     "text": [
      "Train on 8000 samples, validate on 1000 samples\n",
      "Epoch 1/1\n",
      "6s - loss: 0.4014 - acc: 0.8777 - val_loss: 0.1520 - val_acc: 0.9490\n"
     ]
    },
    {
     "data": {
      "text/plain": [
       "<keras.callbacks.History at 0x7f67bc7b9dd8>"
      ]
     },
     "execution_count": 19,
     "metadata": {},
     "output_type": "execute_result"
    }
   ],
   "source": [
    "model.fit(x=x_train_sample, y=y_train_sample, \n",
    "          epochs=1, \n",
    "          batch_size=32, \n",
    "          validation_data=(x_test_sample, y_test_sample), \n",
    "          verbose=2, shuffle=True)"
   ]
  },
  {
   "cell_type": "markdown",
   "metadata": {},
   "source": [
    "Run more epochs"
   ]
  },
  {
   "cell_type": "code",
   "execution_count": 20,
   "metadata": {
    "ExecuteTime": {
     "end_time": "2017-03-29T11:35:50.204296Z",
     "start_time": "2017-03-29T13:34:39.712692+02:00"
    },
    "collapsed": false,
    "deletable": true,
    "editable": true
   },
   "outputs": [
    {
     "name": "stdout",
     "output_type": "stream",
     "text": [
      "Train on 8000 samples, validate on 1000 samples\n",
      "Epoch 1/15\n",
      "4s - loss: 0.2012 - acc: 0.9411 - val_loss: 0.2357 - val_acc: 0.9330\n",
      "Epoch 2/15\n",
      "4s - loss: 0.1732 - acc: 0.9465 - val_loss: 0.1066 - val_acc: 0.9620\n",
      "Epoch 3/15\n",
      "4s - loss: 0.1706 - acc: 0.9509 - val_loss: 0.3152 - val_acc: 0.9270\n",
      "Epoch 4/15\n",
      "4s - loss: 0.1571 - acc: 0.9531 - val_loss: 0.1194 - val_acc: 0.9670\n",
      "Epoch 5/15\n",
      "4s - loss: 0.1419 - acc: 0.9579 - val_loss: 0.2027 - val_acc: 0.9410\n",
      "Epoch 6/15\n",
      "4s - loss: 0.1316 - acc: 0.9596 - val_loss: 0.1458 - val_acc: 0.9600\n",
      "Epoch 7/15\n",
      "4s - loss: 0.1432 - acc: 0.9566 - val_loss: 0.0723 - val_acc: 0.9780\n",
      "Epoch 8/15\n",
      "4s - loss: 0.1178 - acc: 0.9658 - val_loss: 0.5884 - val_acc: 0.8180\n",
      "Epoch 9/15\n",
      "4s - loss: 0.1025 - acc: 0.9690 - val_loss: 0.0929 - val_acc: 0.9690\n",
      "Epoch 10/15\n",
      "4s - loss: 0.0895 - acc: 0.9746 - val_loss: 0.0710 - val_acc: 0.9770\n",
      "Epoch 11/15\n",
      "4s - loss: 0.0809 - acc: 0.9740 - val_loss: 0.0525 - val_acc: 0.9850\n",
      "Epoch 12/15\n",
      "4s - loss: 0.0886 - acc: 0.9744 - val_loss: 0.1045 - val_acc: 0.9670\n",
      "Epoch 13/15\n",
      "4s - loss: 0.0962 - acc: 0.9717 - val_loss: 0.0737 - val_acc: 0.9800\n",
      "Epoch 14/15\n",
      "4s - loss: 0.0807 - acc: 0.9765 - val_loss: 0.0552 - val_acc: 0.9800\n",
      "Epoch 15/15\n",
      "4s - loss: 0.1047 - acc: 0.9685 - val_loss: 0.0778 - val_acc: 0.9790\n"
     ]
    },
    {
     "data": {
      "text/plain": [
       "<keras.callbacks.History at 0x7f67c46e1e48>"
      ]
     },
     "execution_count": 20,
     "metadata": {},
     "output_type": "execute_result"
    }
   ],
   "source": [
    "model.fit(x=x_train_sample, y=y_train_sample, \n",
    "          epochs=15, \n",
    "          batch_size=32, \n",
    "          validation_data=(x_test_sample, y_test_sample), \n",
    "          verbose=2, shuffle=True)"
   ]
  },
  {
   "cell_type": "markdown",
   "metadata": {
    "ExecuteTime": {
     "end_time": "2017-03-29T11:49:33.307747Z",
     "start_time": "2017-03-29T13:49:33.304439+02:00"
    },
    "deletable": true,
    "editable": true
   },
   "source": [
    "Let's train the model on the whole dataset "
   ]
  },
  {
   "cell_type": "code",
   "execution_count": 22,
   "metadata": {
    "ExecuteTime": {
     "end_time": "2017-03-29T11:47:54.440273Z",
     "start_time": "2017-03-29T13:41:55.148940+02:00"
    },
    "collapsed": false,
    "deletable": true,
    "editable": true
   },
   "outputs": [
    {
     "name": "stdout",
     "output_type": "stream",
     "text": [
      "Train on 60000 samples, validate on 10000 samples\n",
      "Epoch 1/10\n",
      "38s - loss: 0.0623 - acc: 0.9820 - val_loss: 0.0256 - val_acc: 0.9920\n",
      "Epoch 2/10\n",
      "35s - loss: 0.0522 - acc: 0.9839 - val_loss: 0.0221 - val_acc: 0.9926\n",
      "Epoch 3/10\n",
      "34s - loss: 0.0457 - acc: 0.9863 - val_loss: 0.0200 - val_acc: 0.9935\n",
      "Epoch 4/10\n",
      "35s - loss: 0.0410 - acc: 0.9876 - val_loss: 0.0192 - val_acc: 0.9933\n",
      "Epoch 5/10\n",
      "35s - loss: 0.0383 - acc: 0.9885 - val_loss: 0.0182 - val_acc: 0.9941\n",
      "Epoch 6/10\n",
      "35s - loss: 0.0353 - acc: 0.9893 - val_loss: 0.0180 - val_acc: 0.9942\n",
      "Epoch 7/10\n",
      "35s - loss: 0.0318 - acc: 0.9900 - val_loss: 0.0166 - val_acc: 0.9943\n",
      "Epoch 8/10\n",
      "34s - loss: 0.0319 - acc: 0.9900 - val_loss: 0.0156 - val_acc: 0.9948\n",
      "Epoch 9/10\n",
      "35s - loss: 0.0300 - acc: 0.9908 - val_loss: 0.0161 - val_acc: 0.9956\n",
      "Epoch 10/10\n",
      "35s - loss: 0.0284 - acc: 0.9916 - val_loss: 0.0154 - val_acc: 0.9953\n"
     ]
    },
    {
     "data": {
      "text/plain": [
       "<keras.callbacks.History at 0x7f67b6f36c88>"
      ]
     },
     "execution_count": 22,
     "metadata": {},
     "output_type": "execute_result"
    }
   ],
   "source": [
    "model.compile(loss='categorical_crossentropy', optimizer=Adam(lr=0.001), metrics=['accuracy'])\n",
    "model.fit(x=x_train, y=y_train, \n",
    "          epochs=10, \n",
    "          batch_size=32, \n",
    "          validation_data=(x_test, y_test), \n",
    "          verbose=2, shuffle=True)"
   ]
  },
  {
   "cell_type": "markdown",
   "metadata": {
    "deletable": true,
    "editable": true
   },
   "source": [
    "We have managed obtain 99.2% accuracy on the validation dataset after the very first epoch, however you may try to train for more epochs to get event better result"
   ]
  },
  {
   "cell_type": "code",
   "execution_count": null,
   "metadata": {
    "collapsed": true,
    "deletable": true,
    "editable": true
   },
   "outputs": [],
   "source": []
  }
 ],
 "metadata": {
  "kernelspec": {
   "display_name": "Python 2",
   "language": "python",
   "name": "python2"
  },
  "language_info": {
   "codemirror_mode": {
    "name": "ipython",
    "version": 2
   },
   "file_extension": ".py",
   "mimetype": "text/x-python",
   "name": "python",
   "nbconvert_exporter": "python",
   "pygments_lexer": "ipython2",
   "version": "2.7.12"
  },
  "toc": {
   "colors": {
    "hover_highlight": "#DAA520",
    "running_highlight": "#FF0000",
    "selected_highlight": "#FFD700"
   },
   "moveMenuLeft": true,
   "nav_menu": {
    "height": "49px",
    "width": "252px"
   },
   "navigate_menu": true,
   "number_sections": true,
   "sideBar": true,
   "threshold": 4,
   "toc_cell": false,
   "toc_section_display": "block",
   "toc_window_display": true,
   "widenNotebook": false
  }
 },
 "nbformat": 4,
 "nbformat_minor": 2
}
